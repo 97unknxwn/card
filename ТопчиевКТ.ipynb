{
  "nbformat": 4,
  "nbformat_minor": 0,
  "metadata": {
    "colab": {
      "provenance": []
    },
    "kernelspec": {
      "name": "python3",
      "display_name": "Python 3"
    },
    "language_info": {
      "name": "python"
    }
  },
  "cells": [
    {
      "cell_type": "markdown",
      "source": [
        "<p align=\"center\"><b><font color=\"red\">Визитная карточка</front></b></p>"
      ],
      "metadata": {
        "id": "g4amfgBzwxz-"
      }
    },
    {
      "cell_type": "markdown",
      "source": [
        "***Иванов Иван Иванович***"
      ],
      "metadata": {
        "id": "2665Wdy4xEDl"
      }
    },
    {
      "cell_type": "markdown",
      "source": [
        "<i>Информация о человеке:</i>\n",
        "<ul>\n",
        "<li>Пол - Мужской </li>\n",
        "<li>Возраст - 35 лет </li>\n",
        "<li>Семейное положение - женат </li>\n",
        "<li>Место жительства - Москва </li>\n",
        "</ul>"
      ],
      "metadata": {
        "id": "Pre4e0bFyADx"
      }
    },
    {
      "cell_type": "markdown",
      "source": [
        "![image](https://img.goodfon.ru/original/1920x1080/3/d9/tony-stark-robert-downey-jr-toni-stark-robert-dauni-mladshch.jpg)"
      ],
      "metadata": {
        "id": "cQzHmCsJyjoZ"
      }
    },
    {
      "cell_type": "markdown",
      "source": [
        "(https://ru.wikipedia.org/wiki/%D0%96%D0%B5%D0%BB%D0%B5%D0%B7%D0%BD%D1%8B%D0%B9_%D1%87%D0%B5%D0%BB%D0%BE%D0%B2%D0%B5%D0%BA)\n"
      ],
      "metadata": {
        "id": "22NvGQu9z78a"
      }
    },
    {
      "cell_type": "markdown",
      "source": [
        "$$y(x) = \\frac{\\sum_{i=1}^{n} \\sum_{j=2}^{m} 9^2_i x_j}{\\sqrt{\\frac{9}{W^2}}} $$"
      ],
      "metadata": {
        "id": "JQvUvnYF1w3A"
      }
    }
  ]
}
